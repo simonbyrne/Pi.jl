{
 "cells": [
  {
   "cell_type": "markdown",
   "metadata": {},
   "source": [
    "# Finding guaranteed bounds on $\\pi$ using standard floating-point arithmetic \n",
    "\n",
    "## By [David P. Sanders](http://sistemas.fciencias.unam.mx/~dsanders/)\n",
    "\n",
    "### Department of Physics, Faculty of Sciences, National University of Mexico (UNAM)"
   ]
  },
  {
   "cell_type": "markdown",
   "metadata": {},
   "source": [
    "In this notebook, we will calculate *guaranteed* (i.e., *validated*, or mathematically rigorous) bounds on $\\pi$ using just floating-point arithmetic. This requires \"directed rounding\", i.e. the ability to control in which direction floating-point operations are rounded.\n",
    "\n",
    "This is based on the book [*Validated Numerics*](http://press.princeton.edu/titles/9488.html) (Princeton, 2011) by [Warwick Tucker](http://www2.math.uu.se/~warwick/CAPA/warwick/warwick.html)."
   ]
  },
  {
   "cell_type": "markdown",
   "metadata": {},
   "source": [
    "Consider the infinite series\n",
    "\n",
    "$$ S := \\sum_{n=1}^\\infty \\frac{1}{n^2},$$\n",
    "\n",
    "whose exact value is [known](http://en.wikipedia.org/wiki/Basel_problem) to be $S = \\frac{\\pi^2}{6}$.\n",
    "Thus, if finding guaranteed bounds on $S$ will give guaranteed bounds on $\\pi$. \n",
    "\n",
    "The idea is to split $S$ up into two parts, $S = S_N + T_N$, where\n",
    "$ S_N := \\sum_{n=1}^N \\frac{1}{n^2}$ contains the first $N$ terms, \n",
    "and $T_N := S - S_N = \\sum_{n=N+1}^\\infty \\frac{1}{n^2}$ contains the rest (an infinite number of terms).\n",
    "\n",
    "We will evalute $S_N$ numerically, and use the following analytical bound for $T_N$:\n",
    "\n",
    "$$\\frac{1}{N+1} \\le T_N \\le \\frac{1}{N}$$.\n",
    "\n",
    "This is obtained by approximating the sum in $T_N$ using integrals from below and above:\n",
    "\n",
    "$$\\int_{x=N+1}^\\infty \\frac{1}{x^2} dx \\le T_N \\le \\int_{x=N}^\\infty \\frac{1}{x^2} dx.$$"
   ]
  },
  {
   "cell_type": "markdown",
   "metadata": {},
   "source": [
    "$S_N$ may be calculated easily by summing either forwards or backwards:"
   ]
  },
  {
   "cell_type": "code",
   "execution_count": null,
   "metadata": {
    "collapsed": false
   },
   "outputs": [],
   "source": [
    "function forward_sum(N, T=Float64)\n",
    "    total = zero(T)\n",
    "\n",
    "    for i in 1:N\n",
    "        total += one(T) / (i^2)\n",
    "    end\n",
    "\n",
    "    total\n",
    "end\n",
    "\n",
    "function reverse_sum(N, T=Float64)\n",
    "    total = zero(T)\n",
    "\n",
    "    for i in N:-1:1\n",
    "        total += one(T) / (i^2)\n",
    "    end\n",
    "    \n",
    "    total\n",
    "end"
   ]
  },
  {
   "cell_type": "markdown",
   "metadata": {},
   "source": [
    "To find *rigorous* bounds for $S_N$, we use \"directed rounding\", that is, we round downwards for the lower bound and  upwards for the upper bound:"
   ]
  },
  {
   "cell_type": "code",
   "execution_count": null,
   "metadata": {
    "collapsed": false
   },
   "outputs": [],
   "source": [
    "N = 10^6\n",
    "\n",
    "lowerbound_S_N = \n",
    "    setrounding(Float64, RoundDown) do\n",
    "        forward_sum(N)\n",
    "    end\n",
    "\n",
    "upperbound_S_N = \n",
    "    setrounding(Float64, RoundUp) do\n",
    "        forward_sum(N)\n",
    "    end"
   ]
  },
  {
   "cell_type": "code",
   "execution_count": null,
   "metadata": {
    "collapsed": false
   },
   "outputs": [],
   "source": [
    "lowerbound_S_N, upperbound_S_N"
   ]
  },
  {
   "cell_type": "markdown",
   "metadata": {},
   "source": [
    "We incorporate the respective bound on $T_N$ to obtain the bounds on $S$, and hence on $\\pi$:"
   ]
  },
  {
   "cell_type": "code",
   "execution_count": null,
   "metadata": {
    "collapsed": false
   },
   "outputs": [],
   "source": [
    "N = 10^6\n",
    "\n",
    "lower_π =\n",
    "    setrounding(Float64, RoundDown) do\n",
    "        lower_bound = forward_sum(N) + 1/(N+1)\n",
    "        sqrt(6 * lower_bound)\n",
    "    end\n",
    "\n",
    "upper_π = \n",
    "    setrounding(Float64, RoundUp) do\n",
    "        upper_bound = forward_sum(N) + 1/N\n",
    "        sqrt(6 * upper_bound)\n",
    "    end\n",
    "\n",
    "(lower_π, upper_π)"
   ]
  },
  {
   "cell_type": "markdown",
   "metadata": {},
   "source": [
    "We may check that the true value of $\\pi$ is indeed contained in the interval:"
   ]
  },
  {
   "cell_type": "code",
   "execution_count": null,
   "metadata": {
    "collapsed": false
   },
   "outputs": [],
   "source": [
    "lower_π < big(pi) < upper_π"
   ]
  },
  {
   "cell_type": "markdown",
   "metadata": {},
   "source": [
    "Summing in the opposite direction turns out to give a more accurate answer:"
   ]
  },
  {
   "cell_type": "code",
   "execution_count": null,
   "metadata": {
    "collapsed": false
   },
   "outputs": [],
   "source": [
    "N = 10^6\n",
    "\n",
    "lower_π =\n",
    "    setrounding(Float64, RoundDown) do\n",
    "        lower_bound = reverse_sum(N) + 1/(N+1)\n",
    "        sqrt(6 * lower_bound)\n",
    "    end\n",
    "\n",
    "upper_π = \n",
    "    setrounding(Float64, RoundUp) do\n",
    "        upper_bound = reverse_sum(N) + 1/N\n",
    "        sqrt(6 * upper_bound)\n",
    "    end\n",
    "\n",
    "(lower_π, upper_π, lower_pi < big(pi) < upper_pi)"
   ]
  },
  {
   "cell_type": "markdown",
   "metadata": {},
   "source": [
    "In principal, we could attain arbitrarily good precision with higher-precision `BigFloat`s, but the result is hampered by the slow convergence of the series."
   ]
  }
 ],
 "metadata": {
  "kernelspec": {
   "display_name": "Julia 0.5.0",
   "language": "julia",
   "name": "julia-0.5"
  },
  "language_info": {
   "file_extension": ".jl",
   "mimetype": "application/julia",
   "name": "julia",
   "version": "0.5.1"
  },
  "toc": {
   "colors": {
    "hover_highlight": "#DAA520",
    "running_highlight": "#FF0000",
    "selected_highlight": "#FFD700"
   },
   "moveMenuLeft": true,
   "nav_menu": {
    "height": "49px",
    "width": "252px"
   },
   "navigate_menu": true,
   "number_sections": true,
   "sideBar": true,
   "threshold": "2",
   "toc_cell": false,
   "toc_section_display": "block",
   "toc_window_display": false
  }
 },
 "nbformat": 4,
 "nbformat_minor": 0
}
