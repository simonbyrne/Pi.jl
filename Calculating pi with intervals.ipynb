{
 "cells": [
  {
   "cell_type": "markdown",
   "metadata": {
    "collapsed": true
   },
   "source": [
    "# Using interval arithmetic to calculate guaranteed bounds for $\\pi$"
   ]
  },
  {
   "cell_type": "markdown",
   "metadata": {},
   "source": [
    "In this notebook, we will see how using **interval arithmetic** simplifies calculating guaranteed bounds for $\\pi$."
   ]
  },
  {
   "cell_type": "markdown",
   "metadata": {},
   "source": [
    "## Summing a series"
   ]
  },
  {
   "cell_type": "markdown",
   "metadata": {},
   "source": [
    "We will repeat the calculation from the previous notebook, now using interval arithmetic, provided by the [`ValidatedNumerics.jl`](https://github.com/dpsanders/ValidatedNumerics.jl) package."
   ]
  },
  {
   "cell_type": "code",
   "execution_count": null,
   "metadata": {
    "collapsed": true
   },
   "outputs": [],
   "source": [
    "using ValidatedNumerics"
   ]
  },
  {
   "cell_type": "code",
   "execution_count": null,
   "metadata": {
    "collapsed": false
   },
   "outputs": [],
   "source": [
    "setdisplay(:standard)  # abbreviated display of intervals"
   ]
  },
  {
   "cell_type": "code",
   "execution_count": null,
   "metadata": {
    "collapsed": false
   },
   "outputs": [],
   "source": [
    "S = Interval(0)\n",
    "\n",
    "N = 10000\n",
    "for i in 1:N\n",
    "    S += 1 / i^2\n",
    "end\n",
    "\n",
    "S += 1/(N+1) .. 1/N  # interval bound on the remainder of the series\n",
    "\n",
    "π_interval = √(6S)"
   ]
  },
  {
   "cell_type": "markdown",
   "metadata": {},
   "source": [
    "Here we used an abbreviated display for the interval. Let's see the whole thing:"
   ]
  },
  {
   "cell_type": "code",
   "execution_count": null,
   "metadata": {
    "collapsed": false
   },
   "outputs": [],
   "source": [
    "setdisplay(:full)\n",
    "π_interval"
   ]
  },
  {
   "cell_type": "markdown",
   "metadata": {},
   "source": [
    "It's diameter (width) is"
   ]
  },
  {
   "cell_type": "code",
   "execution_count": null,
   "metadata": {
    "collapsed": false
   },
   "outputs": [],
   "source": [
    "diam(π_interval)"
   ]
  },
  {
   "cell_type": "markdown",
   "metadata": {},
   "source": [
    "Thus, the result is correct to approximately 8 decimals."
   ]
  },
  {
   "cell_type": "markdown",
   "metadata": {},
   "source": [
    "In this calculation, we used the fact that arithmetic operations of intervals with numbers automatically promote the numbers to an interval:"
   ]
  },
  {
   "cell_type": "code",
   "execution_count": null,
   "metadata": {
    "collapsed": false
   },
   "outputs": [],
   "source": [
    "setdisplay(:full)  # full interval display\n",
    "Interval(0) + 1/3^2"
   ]
  },
  {
   "cell_type": "markdown",
   "metadata": {},
   "source": [
    "This is an interval containing the true real number $1/9$ (written `1//9` in Julia):"
   ]
  },
  {
   "cell_type": "code",
   "execution_count": null,
   "metadata": {
    "collapsed": false
   },
   "outputs": [],
   "source": [
    "big(1//9) ∈ convert(Interval{Float64}, 1/3^2)"
   ]
  },
  {
   "cell_type": "markdown",
   "metadata": {},
   "source": [
    "Finally, we can check that the true value of $\\pi$ is indeed inside our interval:"
   ]
  },
  {
   "cell_type": "code",
   "execution_count": null,
   "metadata": {
    "collapsed": false
   },
   "outputs": [],
   "source": [
    "big(pi) ∈ π_interval"
   ]
  },
  {
   "cell_type": "markdown",
   "metadata": {},
   "source": [
    "## Calculating an area"
   ]
  },
  {
   "cell_type": "markdown",
   "metadata": {},
   "source": [
    "Although the calculation above is simple, the derivation of the series itself is not. In this section, we will use a more natural way to calculate $\\pi$, namely that the area of a circle of radius $r$ is $A(r) = \\pi r^2$. We will calculate the area of one quadrant of a circle of radius $r=2$, which is equal to $\\pi$:"
   ]
  },
  {
   "cell_type": "code",
   "execution_count": null,
   "metadata": {
    "collapsed": false
   },
   "outputs": [],
   "source": [
    "using Plots; gr()"
   ]
  },
  {
   "cell_type": "code",
   "execution_count": null,
   "metadata": {
    "collapsed": false
   },
   "outputs": [],
   "source": [
    "f(x) = √(4 - x^2)"
   ]
  },
  {
   "cell_type": "code",
   "execution_count": null,
   "metadata": {
    "collapsed": false
   },
   "outputs": [],
   "source": [
    "plot(f, 0, 2, aspect_ratio=:equal, fill=(0, :orange), alpha=0.2, label=\"\")"
   ]
  },
  {
   "cell_type": "markdown",
   "metadata": {},
   "source": [
    "The circle of radius $r=2$ is given by $x^2 + y^2 = 2^2 = 4$, so \n",
    "\n",
    "$$\\pi = \\frac{1}{4} A(2) = \\int_{x=0}^2 y(x) \\, dx = \\int_{x=0}^2 \\sqrt{4 - x^2}.$$"
   ]
  },
  {
   "cell_type": "markdown",
   "metadata": {},
   "source": [
    "In calculus, we learn that we can approximate integrals using **Riemann sums**. Interval arithmetic allows us to make these Riemann sums **rigorous** in a very simple way, as follows.\n",
    "\n",
    "We split up the $x$ axis into intervals, for example of equal width:"
   ]
  },
  {
   "cell_type": "code",
   "execution_count": null,
   "metadata": {
    "collapsed": false
   },
   "outputs": [],
   "source": [
    "function make_intervals(N=10)\n",
    "    xs = linspace(0, 2, N+1)\n",
    "    return [xs[i]..xs[i+1] for i in 1:length(xs)-1]\n",
    "end\n",
    "\n",
    "intervals = make_intervals()"
   ]
  },
  {
   "cell_type": "markdown",
   "metadata": {},
   "source": [
    "Given one of those intervals, we evaluate the function of interest:"
   ]
  },
  {
   "cell_type": "code",
   "execution_count": null,
   "metadata": {
    "collapsed": false
   },
   "outputs": [],
   "source": [
    "II = intervals[1]"
   ]
  },
  {
   "cell_type": "code",
   "execution_count": null,
   "metadata": {
    "collapsed": false
   },
   "outputs": [],
   "source": [
    "f(II)"
   ]
  },
  {
   "cell_type": "markdown",
   "metadata": {},
   "source": [
    "The result is an interval that is **guaranteed to contain** the true range of the function $f$ over that interval. So the lower and upper bounds of the intervals may be used as lower and upper bounds of the height of the box in a Riemann integral:"
   ]
  },
  {
   "cell_type": "code",
   "execution_count": null,
   "metadata": {
    "collapsed": false
   },
   "outputs": [],
   "source": [
    "intervals = make_intervals(30)\n",
    "\n",
    "p = plot(aspect_ratio=:equal)\n",
    "for X in intervals\n",
    "    Y = f(X)\n",
    "    \n",
    "    plot!(IntervalBox(X, Interval(0, Y.lo)), c=:blue, label=\"\", alpha=0.1)\n",
    "    plot!(IntervalBox(X, Interval(Y.lo, Y.hi)), c=:red, label=\"\", alpha=0.1)\n",
    "end\n",
    "\n",
    "plot!(f, 0, 2)\n",
    "\n",
    "p"
   ]
  },
  {
   "cell_type": "markdown",
   "metadata": {},
   "source": [
    "Now we just sum up the areas:"
   ]
  },
  {
   "cell_type": "code",
   "execution_count": null,
   "metadata": {
    "collapsed": false
   },
   "outputs": [],
   "source": [
    "N = 20\n",
    "intervals = make_intervals(N)\n",
    "\n",
    "width = 2/N\n",
    "width * sum(√(4 - X^2) for X in intervals)"
   ]
  },
  {
   "cell_type": "markdown",
   "metadata": {},
   "source": [
    "As we increase the number of sub-intervals, the approximation gets better and better:"
   ]
  },
  {
   "cell_type": "code",
   "execution_count": null,
   "metadata": {
    "collapsed": false
   },
   "outputs": [],
   "source": [
    "setdisplay(:standard, sigfigs=5)\n",
    "\n",
    "println(\"N \\t area interval \\t \\t diameter\")\n",
    "for N in 50:50:1000\n",
    "    intervals = make_intervals(N)\n",
    "    area = (2/N) * sum(√(4 - X^2) for X in intervals)\n",
    "            \n",
    "    println(\"$N \\t $area \\t $(diam(area))\")\n",
    "end"
   ]
  }
 ],
 "metadata": {
  "kernelspec": {
   "display_name": "Julia 0.5.0",
   "language": "julia",
   "name": "julia-0.5"
  },
  "language_info": {
   "file_extension": ".jl",
   "mimetype": "application/julia",
   "name": "julia",
   "version": "0.5.1"
  },
  "toc": {
   "colors": {
    "hover_highlight": "#DAA520",
    "running_highlight": "#FF0000",
    "selected_highlight": "#FFD700"
   },
   "moveMenuLeft": true,
   "nav_menu": {
    "height": "67px",
    "width": "252px"
   },
   "navigate_menu": true,
   "number_sections": true,
   "sideBar": true,
   "threshold": "2",
   "toc_cell": false,
   "toc_section_display": "block",
   "toc_window_display": false
  }
 },
 "nbformat": 4,
 "nbformat_minor": 0
}
